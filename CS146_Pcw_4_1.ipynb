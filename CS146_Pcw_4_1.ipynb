{
 "cells": [
  {
   "cell_type": "code",
   "execution_count": 2,
   "metadata": {
    "collapsed": true
   },
   "outputs": [],
   "source": [
    "import numpy as np\n",
    "import matplotlib.pyplot as plt\n",
    "from scipy import stats"
   ]
  },
  {
   "cell_type": "markdown",
   "metadata": {},
   "source": [
    "In the previous session, you were told which parameters to use for the prior normalinverse-gamma distribution. This time you have to choose the prior parameters yourself.\n",
    "Given the information below, find reasonable values for the prior parameters of the\n",
    "normal-inverse-gamma distribution — μ₀, ν₀, α₀, β₀. You will be asked to provide your\n",
    "values for the prior hyperparameters in class, and to explain how you came up with them."
   ]
  },
  {
   "cell_type": "markdown",
   "metadata": {},
   "source": [
    "Information provided:\n",
    "● The data are normally distributed. The error margins given below represent 1\n",
    "standard deviation from the mean of the parameter.\n",
    "● Constraint: the mean of the data is approximately 2.3 ± 0.5.\n",
    "● Constraint: the variance of the data is approximately 2.75 ± 1.\n",
    "● Find μ₀, ν₀, α₀, β₀ hyperparameters for the normal-inverse-gamma prior that\n",
    "match this information."
   ]
  },
  {
   "cell_type": "markdown",
   "metadata": {},
   "source": [
    "You can solve this problem in at least two different ways. You have to implement at least\n",
    "one of these two methods. Ideally, implement both and check that your answers match.\n",
    "1. Frame the information above as an optimization problem. You should design a\n",
    "function that is minimized when the constraints above are all satisfied. You can do\n",
    "this by creating an objective function of the sum of squared residuals of the\n",
    "constraints. Use SciPy to find the minimum of the objective function.\n",
    "For example, the mean of the data mean should be 2.3. From Wikipedia , we know\n",
    "that the expected value of the mean of the normal-inverse-gamma distribution is μ0\n",
    "so we add the term (μ .3) to the objective function. You should have 4 such 0 ­ 2\n",
    "2\n",
    "terms in your function, corresponding to the 4 constraints in the information above."
   ]
  },
  {
   "cell_type": "code",
   "execution_count": 9,
   "metadata": {
    "collapsed": true
   },
   "outputs": [],
   "source": [
    "'''\n",
    "Function definitions for the normal-inverse-gamma distribution. The parameters\n",
    "of the distribution, namely mu (μ), either lambda (λ) or nu (ν), alpha (α),\n",
    "beta (β), are used as defined here:\n",
    "\n",
    "  https://en.wikipedia.org/wiki/Normal-inverse-gamma_distribution\n",
    "\n",
    "Note that we use the symbol nu (ν) rather than lambda (λ) for the third\n",
    "parameter. This is to match the notation used in the conjugate priors table on\n",
    "Wikipedia:\n",
    "\n",
    "  https://en.wikipedia.org/wiki/Conjugate_prior#Table_of_conjugate_distributions\n",
    "'''\n",
    "\n",
    "def norminvgamma_pdf(x, sigma2, mu, nu, alpha, be):\n",
    "    '''\n",
    "    The probability density function of the normal-inverse-gamma distribution at\n",
    "    x (mean) and sigma2 (variance).\n",
    "    '''\n",
    "    return (\n",
    "        sts.norm.pdf(x, loc=mu, scale=np.sqrt(sigma2 / nu)) *\n",
    "        sts.invgamma.pdf(sigma2, a=alpha, scale=be))\n",
    "\n",
    "def norminvgamma_rvs(mu, nu, alpha, be, size=1):\n",
    "    '''\n",
    "    Generate n samples from the normal-inverse-gamma distribution. This function\n",
    "    returns a (size x 2) matrix where each row contains a sample, (x, sigma2).\n",
    "    '''\n",
    "    # Sample sigma^2 from the inverse-gamma distribution\n",
    "    sigma2 = sts.invgamma.rvs(a=alpha, scale=be, size=size)\n",
    "    # Sample x from the normal distribution\n",
    "    x = sts.norm.rvs(loc=mu, scale=np.sqrt(sigma2 / nu), size=size)\n",
    "    return np.vstack((x, sigma2)).transpose()"
   ]
  },
  {
   "cell_type": "code",
   "execution_count": 6,
   "metadata": {},
   "outputs": [
    {
     "name": "stdout",
     "output_type": "stream",
     "text": [
      "Started at [ 0.     0.054  2.2    0.4  ]\n",
      "Ended at [  2.3          0.18181832   9.5624952   23.54685931]\n",
      "func([  2.3          0.18181832   9.5624952   23.54685931]) = 0.00\n",
      "\n",
      "Started at [ 2.     0.006  2.4    0.5  ]\n",
      "Ended at [  2.29999961   0.18181839   9.5624978   23.54686811]\n",
      "func([  2.29999961   0.18181839   9.5624978   23.54686811]) = 0.00\n",
      "\n",
      "Started at [ 1.     0.009  2.1    0.7  ]\n",
      "Ended at [  2.30000001   0.18181805   9.5625037   23.54689073]\n",
      "func([  2.30000001   0.18181805   9.5625037   23.54689073]) = 0.00\n",
      "\n",
      "Started at [10 10 20 15]\n",
      "Ended at [  2.29999991   0.18181824   9.56250047  23.54687648]\n",
      "func([  2.29999991   0.18181824   9.56250047  23.54687648]) = 0.00\n",
      "\n"
     ]
    }
   ],
   "source": [
    "import numpy as np\n",
    "from scipy.optimize import minimize\n",
    "\n",
    "### Define the objective function \n",
    "##define the hyperparameters using the equations from wikepedia\n",
    "def func(x):\n",
    "    mu, nu, alpha, beta = x[0],x[1],x[2],x[3]\n",
    "    x= mu\n",
    "    var_x=  (beta / (alpha -1) *nu)\n",
    "    sigma2 = (beta / (alpha -1))\n",
    "    var_sigma2 = (beta**2)  / (((alpha -1)**2) * (alpha -2))\n",
    "    return (x - 2.3)**2 + (var_x- 0.5)**2+ (sigma2 -2.75)**2 + (var_sigma2 - 1)**2 \n",
    "\n",
    "for x_initial in [\n",
    "np.array([0, 0.054, 2.2, 0.4]),\n",
    "np.array([2, 0.006, 2.4, 0.5]),\n",
    "np.array([1, 0.009, 2.1, 0.7]),\n",
    "np.array([10, 10, 20, 15])\n",
    "]:\n",
    "    result = minimize(func, x_initial)\n",
    "    x_final = result.x\n",
    "    print('Started at', x_initial)\n",
    "    print('Ended at', x_final)\n",
    "    print('func(%s) = %.2f' % (x_final, func(x_final)))\n",
    "    print()"
   ]
  },
  {
   "cell_type": "markdown",
   "metadata": {},
   "source": [
    "2. The constraints above give you the mean of the data mean, the standard deviation\n",
    "of the data mean, the mean of the data variance, and the standard deviation of the\n",
    "data variance. Solve these 4 equations (one for each of the quantities above)\n",
    "simultaneously to find the values of the prior parameters."
   ]
  },
  {
   "cell_type": "code",
   "execution_count": 9,
   "metadata": {},
   "outputs": [],
   "source": [
    "#Solving the four equations simultaneously using a numerical solver \n",
    "# 2.3= mu\n",
    "# 0.5=  (beta / (alpha -1) *nu)\n",
    "# 2.75 = (beta / (alpha -1))\n",
    "# 1 = (beta**2)  / (((alpha -1)**2) * (alpha -2))\n"
   ]
  },
  {
   "cell_type": "code",
   "execution_count": null,
   "metadata": {
    "collapsed": true
   },
   "outputs": [],
   "source": []
  }
 ],
 "metadata": {
  "kernelspec": {
   "display_name": "Python 3",
   "language": "python",
   "name": "python3"
  },
  "language_info": {
   "codemirror_mode": {
    "name": "ipython",
    "version": 3
   },
   "file_extension": ".py",
   "mimetype": "text/x-python",
   "name": "python",
   "nbconvert_exporter": "python",
   "pygments_lexer": "ipython3",
   "version": "3.6.5"
  }
 },
 "nbformat": 4,
 "nbformat_minor": 2
}
